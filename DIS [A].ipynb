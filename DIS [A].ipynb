{
 "cells": [
  {
   "cell_type": "markdown",
   "metadata": {},
   "source": [
    "# Data Insights Challenge\n",
    "Presented by Angus, Hiroki"
   ]
  },
  {
   "cell_type": "code",
   "execution_count": null,
   "metadata": {},
   "outputs": [],
   "source": [
    "import pandas as pd\n",
    "import numpy as np\n",
    "import re\n",
    "from datetime import datetime\n",
    "import matplotlib.pyplot as plt"
   ]
  },
  {
   "cell_type": "code",
   "execution_count": null,
   "metadata": {},
   "outputs": [],
   "source": [
    "df = pd.read_csv('car_prices.csv')"
   ]
  },
  {
   "cell_type": "markdown",
   "metadata": {},
   "source": [
    "# **DATA CLEANING**"
   ]
  },
  {
   "cell_type": "code",
   "execution_count": null,
   "metadata": {},
   "outputs": [],
   "source": [
    "null_counts = df.isnull().sum()\n",
    "print(\"Null value counts in each column:\")\n",
    "print(null_counts)"
   ]
  },
  {
   "cell_type": "code",
   "execution_count": null,
   "metadata": {},
   "outputs": [],
   "source": [
    "cleaned_df = df.copy()\n",
    "# 'year' column\n",
    "year_pattern = r'^\\d{4}$'\n",
    "invalid_years = df[~df['year'].astype(str).str.match(year_pattern)]\n",
    "cleaned_df = cleaned_df.drop(invalid_years.index)\n",
    "\n",
    "# 'make' & 'model' column\n",
    "make_model_null = cleaned_df[cleaned_df['make'].isnull() & cleaned_df['model'].isnull()]\n",
    "cleaned_df = cleaned_df.drop(make_model_null.index)\n",
    "cleaned_df['make'] = cleaned_df['make'].apply(lambda x: x.capitalize())\n",
    "\n",
    "# 'vin' column\n",
    "cleaned_df = cleaned_df[cleaned_df['vin'].astype(str).str.len() == 17]\n",
    "\n",
    "# 'color' column\n",
    "color_list = ['white', 'gray', 'black', 'red', 'silver', 'blue', 'brown'\n",
    "        'beige', 'purple', 'burgundy', 'gold', 'yellow', 'green',\n",
    "        'charcoal', 'orange', 'off-white', 'turquoise', 'pink', 'lime']\n",
    "cleaned_df.loc[~cleaned_df['color'].isin(color_list), 'color'] = None\n",
    "\n",
    "# 'interior' column\n",
    "interior_color_list = ['black', 'beige', 'tan', 'gray', 'brown',\n",
    "             'burgundy', 'white', 'silver', 'off-white', 'blue'\n",
    "             'red', 'yellow', 'green', 'purple', 'orange', 'gold']\n",
    "cleaned_df.loc[~cleaned_df['interior'].isin(interior_color_list), 'interior'] = None"
   ]
  },
  {
   "cell_type": "code",
   "execution_count": null,
   "metadata": {},
   "outputs": [],
   "source": [
    "# saledate column\n",
    "def extract_and_convert_time(sale_str):\n",
    "    # remove timezone\n",
    "    try:\n",
    "      sale_str = sale_str.split(\"(\")[0].strip()\n",
    "    except AttributeError as e: # in case it is nan\n",
    "        return\n",
    "    # Parse the string into a datetime object\n",
    "    sale_datetime = datetime.strptime(sale_str, \"%a %b %d %Y %H:%M:%S GMT%z\")\n",
    "    # Convert the time to GMT-0000 format\n",
    "    gmt_time = sale_datetime.astimezone(datetime.now().astimezone().tzinfo)\n",
    "    return gmt_time\n",
    "def extract_weekday(sale_str):\n",
    "    try:\n",
    "        sale_str = sale_str.split(\"(\")[0].strip()\n",
    "    except AttributeError as e: # in case it is nan\n",
    "        return\n",
    "    # Parse the string into a datetime object\n",
    "    sale_datetime = datetime.strptime(sale_str, \"%a %b %d %Y %H:%M:%S GMT%z\")\n",
    "    # Extract the weekday\n",
    "    weekday = sale_datetime.strftime(\"%A\")\n",
    "    return weekday\n",
    "\n",
    "# Apply the function to the 'saletime' column\n",
    "cleaned_df['saleweekday'] = cleaned_df['saledate'].apply(extract_weekday)\n",
    "cleaned_df['saletime'] = cleaned_df['saledate'].apply(extract_and_convert_time)\n",
    "\n",
    "# other columns is cleaned already! Add a final column here.\n",
    "cleaned_df['profit'] = cleaned_df['sellingprice'] - cleaned_df['mmr']"
   ]
  },
  {
   "cell_type": "code",
   "execution_count": null,
   "metadata": {},
   "outputs": [],
   "source": [
    "df = cleaned_df.copy()"
   ]
  },
  {
   "cell_type": "code",
   "execution_count": null,
   "metadata": {},
   "outputs": [],
   "source": [
    "cleaned_df.head()"
   ]
  },
  {
   "cell_type": "code",
   "execution_count": null,
   "metadata": {},
   "outputs": [],
   "source": [
    "# Check for duplicate values in the 'vid' column\n",
    "duplicates = df[df.duplicated(subset=['vin'], keep=False)]\n",
    "#print(duplicates.loc[:, ['year', 'vin']])\n",
    "duplicate_pairs = duplicates.groupby('vin').apply(lambda x: x.reset_index(drop=True))\n",
    "#print(duplicate_pairs.head(2))"
   ]
  },
  {
   "cell_type": "markdown",
   "metadata": {},
   "source": [
    "# **DATA ANALYSIS**"
   ]
  },
  {
   "cell_type": "markdown",
   "metadata": {},
   "source": [
    "## Sales & Profit"
   ]
  },
  {
   "cell_type": "markdown",
   "metadata": {},
   "source": [
    "In this section, we get straight to how the car sales perform and the area for improvement."
   ]
  },
  {
   "cell_type": "code",
   "execution_count": null,
   "metadata": {},
   "outputs": [],
   "source": [
    "df1 = df.copy()\n",
    "df1['saletime'] = pd.to_datetime(df1['saletime'], utc=True)\n",
    "\n",
    "# Extract the date from the 'saletime' column\n",
    "df1['saledate'] = df1['saletime'].dt.date\n",
    "df1 = df1[df1['saledate'] > pd.to_datetime('2014-11-11').date()]\n",
    "# Aggregate data by date\n",
    "profit_by_date = df1.groupby('saledate')['profit'].sum().reset_index()\n",
    "sales_by_date = df1['saledate'].value_counts().sort_index()\n",
    "\n",
    "# Plotting the graph\n",
    "fig, (ax1, ax2) = plt.subplots(2, 1, figsize=(8, 10), gridspec_kw={'hspace': 0.5})\n",
    "ax1.plot(profit_by_date['saledate'], profit_by_date['profit'], marker='o')\n",
    "ax1.set_title('Profit vs. Sale Date')\n",
    "ax1.set_xlabel('Sale Date')\n",
    "ax1.set_ylabel('Profit')\n",
    "ax1.tick_params(axis='x', rotation=45)\n",
    "ax1.grid(True)\n",
    "ax2.plot(sales_by_date.index, sales_by_date.values, marker='o')\n",
    "ax2.set_title('Sales Number vs. Sale Date')\n",
    "ax2.set_xlabel('Sale Date')\n",
    "ax2.set_ylabel('Sales Number')\n",
    "ax2.tick_params(axis='x', rotation=45)\n",
    "ax2.grid(True)"
   ]
  },
  {
   "cell_type": "markdown",
   "metadata": {},
   "source": [
    "The graph above shows the profit over a year is a tragedy. The more cars sold, the less they earned. There's even barely sells in between March and June of the year 2015. This result indicates a lot improvement have to be done on car marketting."
   ]
  },
  {
   "cell_type": "code",
   "execution_count": null,
   "metadata": {},
   "outputs": [],
   "source": [
    "sales_by_weekday = df['saleweekday'].value_counts().sort_index()\n",
    "weekday_order = ['Monday', 'Tuesday', 'Wednesday', 'Thursday', 'Friday', 'Saturday', 'Sunday']\n",
    "sales_by_weekday = sales_by_weekday.reindex(weekday_order)\n",
    "# Plotting the graph\n",
    "plt.figure(figsize=(10, 6))\n",
    "sales_by_weekday.plot(kind='bar', color='skyblue')\n",
    "plt.title('Number of Sales by Weekday')\n",
    "plt.xlabel('Sale Weekday')\n",
    "plt.ylabel('Number of Sales')\n",
    "plt.xticks(rotation=0)\n",
    "plt.tight_layout()\n",
    "plt.show()"
   ]
  },
  {
   "cell_type": "markdown",
   "metadata": {},
   "source": [
    "On the other hand, an obvious trend is shown here with a clear bell shape that people tends to purchases cars on Wednesday or days before or after. However, people are not keen to buy any cars during the weekend."
   ]
  },
  {
   "cell_type": "code",
   "execution_count": null,
   "metadata": {},
   "outputs": [],
   "source": [
    "no_model = df[df['model'].isnull()]['make'].value_counts(normalize=True)\n",
    "print(no_model)"
   ]
  },
  {
   "cell_type": "markdown",
   "metadata": {},
   "source": [
    "An Interesting fact here that BMW and Audi, especially BMW, is the only brand the will miss the model name. Something might need to be caught up here."
   ]
  },
  {
   "cell_type": "code",
   "execution_count": null,
   "metadata": {},
   "outputs": [],
   "source": [
    "df_positive_profit = df[df['profit'] > 0]\n",
    "\n",
    "# Calculate total profit by manufacturer\n",
    "profit_by_make = df_positive_profit.groupby('make')['profit'].sum().reset_index()\n",
    "profit_by_make = profit_by_make[profit_by_make['profit'] > 1200000]\n",
    "profit_by_make_sorted = profit_by_make.sort_values(by='profit', ascending=False)\n",
    "\n",
    "# Plotting the graph\n",
    "plt.figure(figsize=(10, 6))\n",
    "plt.bar(profit_by_make_sorted['make'], profit_by_make_sorted['profit'], color='skyblue')\n",
    "plt.title('Total Profit by Manufacturer')\n",
    "plt.xlabel('Manufacturer')\n",
    "plt.ylabel('Total Profit')\n",
    "plt.xticks(rotation=65)\n",
    "plt.grid(axis='y')\n",
    "plt.tight_layout()\n",
    "plt.show()"
   ]
  },
  {
   "cell_type": "code",
   "execution_count": null,
   "metadata": {},
   "outputs": [],
   "source": [
    "# Count the number of unique car brands with total profit > 1200000\n",
    "num_brands_profit_positive = profit_by_make['make'].nunique()\n",
    "prop = num_brands_profit_positive / df['make'].nunique()\n",
    "print(\"Proportion of car brands with good profit:\", prop)"
   ]
  },
  {
   "cell_type": "markdown",
   "metadata": {},
   "source": [
    "The graphs above shows the total profit of each maufacturer, however only maufacterer have a total profit of $1,200,000 or more will be shown on the graph. As $100000 (on month on average) is considered as a maintainable profit to the car maufacturer. The code above shows less than half of the manufacturer satisfy this condition as well, this leads us to investigate the factor that affects the profit of cars..."
   ]
  },
  {
   "cell_type": "code",
   "execution_count": null,
   "metadata": {},
   "outputs": [],
   "source": [
    "color_proportions = df['color'].value_counts(normalize=True)\n",
    "color_colors = ['black', 'white', 'silver', 'gray', 'blue', 'red', 'pink']\n",
    "interior_proportions = df['interior'].value_counts(normalize=True)\n",
    "interior_colors = ['black', 'gray', 'beige', 'tan', 'pink']\n",
    "\n",
    "threshold = 0.08\n",
    "# Identify colors to include in \"Other\" category\n",
    "colors_to_combine = color_proportions[color_proportions < threshold].index\n",
    "other_color_proportion = color_proportions[colors_to_combine].sum()\n",
    "color_proportions_filtered = color_proportions[color_proportions >= threshold]\n",
    "color_proportions_filtered['Other'] = other_color_proportion\n",
    "\n",
    "# Identify interior colors to include in \"Other\" category\n",
    "interiors_to_combine = interior_proportions[interior_proportions < threshold].index\n",
    "other_interior_proportion = interior_proportions[interiors_to_combine].sum()\n",
    "interior_proportions_filtered = interior_proportions[interior_proportions >= threshold]\n",
    "interior_proportions_filtered['Other'] = other_interior_proportion\n",
    "\n",
    "# Create figure and subplots for the pie charts\n",
    "fig, axs = plt.subplots(1, 2, figsize=(12, 6))\n",
    "\n",
    "# Plot the color proportions pie chart\n",
    "axs[0].pie(color_proportions_filtered, labels=color_proportions_filtered.index,\n",
    "      autopct='%1.1f%%', startangle=90, colors=color_colors, shadow=True)\n",
    "axs[0].set_title('Color Proportions')\n",
    "axs[0].legend(loc=\"center right\", bbox_to_anchor=(1.2, 0.5))\n",
    "\n",
    "# Plot the interior proportions pie chart\n",
    "axs[1].pie(interior_proportions_filtered, labels=interior_proportions_filtered.index,\n",
    "      autopct='%1.1f%%', startangle=90, colors=interior_colors, shadow=True)\n",
    "axs[1].set_title('Interior Proportions')\n",
    "axs[1].legend(loc=\"center right\", bbox_to_anchor=(1.2, 0.5))\n",
    "\n",
    "# Display the pie charts\n",
    "plt.tight_layout()\n",
    "plt.show()"
   ]
  },
  {
   "cell_type": "markdown",
   "metadata": {},
   "source": [
    "We can see that the color of the car is quite separate, revealing people don't put this as a first consideration... What could be matter then?"
   ]
  },
  {
   "cell_type": "markdown",
   "metadata": {},
   "source": [
    "## Profit Difference after Resale"
   ]
  },
  {
   "cell_type": "markdown",
   "metadata": {},
   "source": [
    "Story~\n",
    "We found that some of the vin repeats in the data, indicating the car is being resold, so we'll investigate if reselling the car affect its value."
   ]
  },
  {
   "cell_type": "code",
   "execution_count": null,
   "metadata": {},
   "outputs": [],
   "source": [
    "# Check for duplicate values in the 'vid' column\n",
    "duplicates = df[df.duplicated(subset=['vin'], keep=False)]\n",
    "#print(duplicates.loc[:, ['year', 'vin']])\n",
    "duplicate_pairs = duplicates.groupby('vin').apply(lambda x: x.reset_index(drop=True))\n",
    "duplicate_pairs['profit_diff'] = duplicate_pairs.groupby(level=0)['profit'].diff()\n",
    "duplicate_pairs['time_diff'] = (duplicate_pairs.groupby(level=0)['saletime'].diff().dt.total_seconds() / (24 * 3600)).astype(float)\n",
    "duplicate_pairs['odom_diff'] = duplicate_pairs.groupby(level=0)['odometer'].diff()\n",
    "diff = duplicate_pairs[['make', 'odom_diff', 'time_diff', 'profit_diff']].copy()\n",
    "diff = diff.dropna()\n",
    "diff = diff.reset_index(level=0, drop=True)"
   ]
  },
  {
   "cell_type": "code",
   "execution_count": null,
   "metadata": {},
   "outputs": [],
   "source": [
    "average_profit_diff = diff.groupby('make')['profit_diff'].mean()\n",
    "average_profit_diff = average_profit_diff.sort_values(ascending=False)\n",
    "\n",
    "plt.figure(figsize=(10, 6))\n",
    "average_profit_diff.plot(kind='bar', color='skyblue')\n",
    "plt.title('Average Profit Difference by Car Manufacturer')\n",
    "plt.xlabel('Car Manufacturer')\n",
    "plt.ylabel('Average Profit Difference')\n",
    "plt.xticks(rotation=80)\n",
    "plt.grid(axis='y')\n",
    "plt.tight_layout()\n",
    "plt.show()"
   ]
  },
  {
   "cell_type": "markdown",
   "metadata": {},
   "source": [
    "The bar chart above only demonstrate that most of the car brands can have a higher profit after being resold, revealing car prices does not only affected by time."
   ]
  },
  {
   "cell_type": "code",
   "execution_count": null,
   "metadata": {},
   "outputs": [],
   "source": [
    "plt.figure(figsize=(10, 6))\n",
    "plt.scatter(diff['time_diff'], diff['profit_diff'], color='blue', alpha=0.7)\n",
    "plt.title('Profit Difference vs. Time Difference Between Sales')\n",
    "plt.xlabel('Time Difference (Days)')\n",
    "plt.ylabel('Profit Difference')\n",
    "plt.grid(True)\n",
    "plt.tight_layout()\n",
    "plt.show()"
   ]
  },
  {
   "cell_type": "markdown",
   "metadata": {},
   "source": [
    "The graph above does not show an obvious relationship, supporting previous hypothesis that their is other factors affecting the price of car, so we are trying to find a relationship by clustering"
   ]
  },
  {
   "cell_type": "markdown",
   "metadata": {},
   "source": [
    "## Clustering"
   ]
  },
  {
   "cell_type": "markdown",
   "metadata": {},
   "source": [
    "The story here:\n",
    "As shown in the first graph, the relationship between odometer, time, and profit do not have an obvious relationship, so we try to cluster the data to discover the relationship within those factors.\n",
    "The elbow method is used here to find a suitable k-value for KMeans clustering, where the result indicates k = [2,3], we use 3 in this case.\n",
    "The last graph shown the data after clustering with k = 3,where the red indicate most of the population that the profit won't be affect within large range of time and odometer value; and green indicate certain time within a range of odometer value, the profit will maintain as some price as well."
   ]
  },
  {
   "cell_type": "code",
   "execution_count": null,
   "metadata": {},
   "outputs": [],
   "source": [
    "from mpl_toolkits.mplot3d import Axes3D\n",
    "fig = plt.figure(figsize=(10, 8))\n",
    "ax = fig.add_subplot(111, projection='3d')\n",
    "\n",
    "# Plot the data\n",
    "ax.scatter(diff['time_diff'], diff['odom_diff'], diff['profit_diff'],\n",
    "           c='blue', marker='o', alpha=0.7)\n",
    "\n",
    "# Set labels and title\n",
    "ax.set_xlabel('Time Difference (Days)')\n",
    "ax.set_ylabel('Odometer Difference')\n",
    "ax.set_zlabel('Profit Difference')\n",
    "ax.set_title('Relationship between the Difference of Odometer, Time, and Profit after Reselling')\n",
    "\n",
    "# Show plot\n",
    "plt.show()"
   ]
  },
  {
   "cell_type": "code",
   "execution_count": null,
   "metadata": {},
   "outputs": [],
   "source": [
    "from sklearn.cluster import KMeans\n",
    "data = diff[['odom_diff', 'time_diff', 'profit_diff']]\n",
    "distortions = []\n",
    "k_range = range(1, 10)\n",
    "for k in k_range:\n",
    "    kmeans = KMeans(n_clusters=k)\n",
    "    kmeans.fit(data)\n",
    "    distortions.append(kmeans.inertia_) # Question: What does kmeans.inertia_ return?\n",
    "\n",
    "plt.plot(k_range, distortions, 'bx-')\n",
    "\n",
    "plt.title('The Elbow Method showing the optimal k')\n",
    "plt.xlabel('k')\n",
    "plt.ylabel('Distortion')\n",
    "\n",
    "plt.show()"
   ]
  },
  {
   "cell_type": "code",
   "execution_count": null,
   "metadata": {},
   "outputs": [],
   "source": [
    "clusters = KMeans(n_clusters=3)\n",
    "clusters.fit(data)\n",
    "def plot_kmeans(df, clusters):\n",
    "    \"\"\"\n",
    "    generate a 3d plot given sklearn's kmeans implementation\n",
    "    \"\"\"\n",
    "    colormap = {0: 'red', 1: 'green', 2: 'blue'}\n",
    "\n",
    "    fig = plt.figure(figsize=(7, 10))\n",
    "    ax = plt.axes(projection=\"3d\")\n",
    "    ax.scatter(df['time_diff'],\n",
    "               df['odom_diff'],\n",
    "               df['profit_diff'],\n",
    "               c=[colormap.get(x) for x in clusters.labels_])\n",
    "\n",
    "    ax.set_ylabel('odom_diff')\n",
    "    ax.set_xlabel('time_diff')\n",
    "    ax.set_zlabel('profit_diff')\n",
    "    ax.set_title(f\"k = {len(set(clusters.labels_))}\")\n",
    "\n",
    "    plt.show()\n",
    "plot_kmeans(data, clusters)"
   ]
  },
  {
   "cell_type": "markdown",
   "metadata": {},
   "source": [
    "## Make & Model"
   ]
  },
  {
   "cell_type": "code",
   "execution_count": null,
   "metadata": {},
   "outputs": [],
   "source": [
    "year_counts = df['year'].value_counts().sort_index()\n",
    "recent_years = year_counts[year_counts.index >= 2000]\n",
    "\n",
    "plt.figure(figsize=(10, 6))\n",
    "recent_years.plot(kind='bar')\n",
    "plt.title('Popularity of Car Production Years')\n",
    "plt.xlabel('Year')\n",
    "plt.ylabel('Number of Cars')\n",
    "plt.xticks(rotation=45)\n",
    "plt.grid(axis='y', linestyle='--', alpha=0.7)\n",
    "plt.tight_layout()\n",
    "plt.show()"
   ]
  },
  {
   "cell_type": "code",
   "execution_count": null,
   "metadata": {},
   "outputs": [],
   "source": [
    "df['make'] = df['make'].str.lower()\n",
    "make_counts = df['make'].value_counts().sort_values(ascending=False)\n",
    "\n",
    "top_n = 15\n",
    "top_makes = make_counts.head(top_n)\n",
    "\n",
    "plt.figure(figsize=(12, 6))\n",
    "top_makes.plot(kind='bar')\n",
    "plt.title(f'Top {top_n} Most Popular Car Makes')\n",
    "plt.xlabel('Make')\n",
    "plt.ylabel('Number of Cars')\n",
    "plt.xticks(rotation=45)\n",
    "\n",
    "plt.gca().set_xticklabels([make.capitalize() for make in top_makes.index])\n",
    "\n",
    "plt.grid(axis='y', linestyle='--', alpha=0.7)\n",
    "plt.tight_layout()\n",
    "plt.show()"
   ]
  },
  {
   "cell_type": "code",
   "execution_count": null,
   "metadata": {},
   "outputs": [],
   "source": [
    "df['model'] = df['model'].str.lower()\n",
    "model_counts = df['model'].value_counts().sort_values(ascending=False)\n",
    "\n",
    "top_n = 15\n",
    "top_models = model_counts.head(top_n)\n",
    "\n",
    "plt.figure(figsize=(12, 6))\n",
    "top_models.plot(kind='bar')\n",
    "plt.title(f'Top {top_n} Most Popular Car Models')\n",
    "plt.xlabel('Model')\n",
    "plt.ylabel('Number of Cars')\n",
    "plt.xticks(rotation=45)\n",
    "\n",
    "plt.gca().set_xticklabels([model.capitalize() for model in top_models.index])\n",
    "\n",
    "plt.grid(axis='y', linestyle='--', alpha=0.7)\n",
    "plt.tight_layout()\n",
    "plt.show()"
   ]
  }
 ],
 "metadata": {
  "kernelspec": {
   "display_name": "Python 3",
   "language": "python",
   "name": "python3"
  },
  "language_info": {
   "codemirror_mode": {
    "name": "ipython",
    "version": 3
   },
   "file_extension": ".py",
   "mimetype": "text/x-python",
   "name": "python",
   "nbconvert_exporter": "python",
   "pygments_lexer": "ipython3",
   "version": "3.12.3"
  }
 },
 "nbformat": 4,
 "nbformat_minor": 2
}
